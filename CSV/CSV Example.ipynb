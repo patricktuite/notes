{
 "cells": [
  {
   "cell_type": "markdown",
   "metadata": {},
   "source": [
    "Python CSV \n",
    "\n",
    "What is a CSV file?\n",
    "\n",
    "CSV stands Comma Separated Value and at its core consists of plain text separated by a delimeter, adding some structure to the data. So what does this mean? Well let's a look and see. \n",
    "\n",
    "First we open the file in question using python's built in ```open()``` [function](https://docs.python.org/2/library/functions.html#open)."
   ]
  },
  {
   "cell_type": "code",
   "execution_count": 2,
   "metadata": {
    "collapsed": true
   },
   "outputs": [],
   "source": [
    "f = open('Birthdays.csv', 'r')"
   ]
  },
  {
   "cell_type": "markdown",
   "metadata": {},
   "source": [
    "So what do we have now? This is what's called a file object. We then use python's built in read function to read the file into a variable."
   ]
  },
  {
   "cell_type": "code",
   "execution_count": 3,
   "metadata": {
    "collapsed": true
   },
   "outputs": [],
   "source": [
    "data = f.read()"
   ]
  },
  {
   "cell_type": "markdown",
   "metadata": {},
   "source": [
    "The file data is now loaded in the variable so we can close the file to free up resources."
   ]
  },
  {
   "cell_type": "code",
   "execution_count": 4,
   "metadata": {
    "collapsed": true
   },
   "outputs": [],
   "source": [
    "f.close()"
   ]
  },
  {
   "cell_type": "markdown",
   "metadata": {},
   "source": [
    "Data is one giant string. Let's take a look at a slice. "
   ]
  },
  {
   "cell_type": "code",
   "execution_count": 5,
   "metadata": {},
   "outputs": [
    {
     "data": {
      "text/plain": [
       "'\"\",\"state\",\"year\",\"month\",\"day\",\"date\",\"wday\",\"births\"\\n\"1\",\"AK\",1969,1,1,1969-01-01,\"Wed\",14\\n\"2\",\"AL\",1969,1,1,1969-01-01,\"Wed\",174\\n\"3\",\"AR\",1969,1,1,1969-01-01,\"Wed\",78\\n\"4\",\"AZ\",1969,1,1,1969-01-01,\"'"
      ]
     },
     "execution_count": 5,
     "metadata": {},
     "output_type": "execute_result"
    }
   ],
   "source": [
    "data[:200]"
   ]
  },
  {
   "cell_type": "markdown",
   "metadata": {},
   "source": [
    "So as you can see here we have a bunch of characters that somehow through the magic of python will turn into some structured data. Let's break it down. First thing we notice is that there is a comma after every value, hence CSV. Also, every few values there is a character \"\\n\". In python this is a the new line character. So we have a set of values separate by commas followed by a new line. This is just columns and rows. Every new line is a new row. If we break the data up on the new lines we can generate a list of rows. Let's see this in action. "
   ]
  },
  {
   "cell_type": "code",
   "execution_count": 6,
   "metadata": {
    "collapsed": true
   },
   "outputs": [],
   "source": [
    "rows = data.split('\\n')"
   ]
  },
  {
   "cell_type": "markdown",
   "metadata": {},
   "source": [
    "Let's take a look at the first 5 rows. Looking alot more tabular. "
   ]
  },
  {
   "cell_type": "code",
   "execution_count": 7,
   "metadata": {},
   "outputs": [
    {
     "data": {
      "text/plain": [
       "['\"\",\"state\",\"year\",\"month\",\"day\",\"date\",\"wday\",\"births\"',\n",
       " '\"1\",\"AK\",1969,1,1,1969-01-01,\"Wed\",14',\n",
       " '\"2\",\"AL\",1969,1,1,1969-01-01,\"Wed\",174',\n",
       " '\"3\",\"AR\",1969,1,1,1969-01-01,\"Wed\",78',\n",
       " '\"4\",\"AZ\",1969,1,1,1969-01-01,\"Wed\",84']"
      ]
     },
     "execution_count": 7,
     "metadata": {},
     "output_type": "execute_result"
    }
   ],
   "source": [
    "rows[:5]"
   ]
  },
  {
   "cell_type": "code",
   "execution_count": 8,
   "metadata": {
    "collapsed": true
   },
   "outputs": [],
   "source": [
    "header = rows[0][1:]\n",
    "rows = rows[1:]"
   ]
  },
  {
   "cell_type": "code",
   "execution_count": 9,
   "metadata": {
    "collapsed": true
   },
   "outputs": [],
   "source": [
    "head = list()\n",
    "header = header.split(',')\n",
    "for i in header:\n",
    "    i = i.replace('\"','')\n",
    "    head.append(i)\n",
    "\n",
    "head = head[1:]\n"
   ]
  },
  {
   "cell_type": "code",
   "execution_count": 10,
   "metadata": {
    "collapsed": true
   },
   "outputs": [],
   "source": [
    "row_data = list()\n",
    "for row in rows:\n",
    "    row = row.split(',')\n",
    "    add_row = []\n",
    "    for i in row:\n",
    "        i = i.replace('\"','')\n",
    "        add_row.append(i)\n",
    "    row_data.append(add_row[1:])\n",
    "\n"
   ]
  },
  {
   "cell_type": "code",
   "execution_count": 11,
   "metadata": {},
   "outputs": [
    {
     "data": {
      "text/plain": [
       "[['AK', '1969', '1', '1', '1969-01-01', 'Wed', '14'],\n",
       " ['AL', '1969', '1', '1', '1969-01-01', 'Wed', '174'],\n",
       " ['AR', '1969', '1', '1', '1969-01-01', 'Wed', '78'],\n",
       " ['AZ', '1969', '1', '1', '1969-01-01', 'Wed', '84'],\n",
       " ['CA', '1969', '1', '1', '1969-01-01', 'Wed', '824'],\n",
       " ['CO', '1969', '1', '1', '1969-01-01', 'Wed', '100'],\n",
       " ['CT', '1969', '1', '1', '1969-01-01', 'Wed', '90'],\n",
       " ['DC', '1969', '1', '1', '1969-01-01', 'Wed', '88'],\n",
       " ['DE', '1969', '1', '1', '1969-01-01', 'Wed', '32'],\n",
       " ['FL', '1969', '1', '1', '1969-01-01', 'Wed', '288']]"
      ]
     },
     "execution_count": 11,
     "metadata": {},
     "output_type": "execute_result"
    }
   ],
   "source": [
    "row_data[:10]"
   ]
  },
  {
   "cell_type": "markdown",
   "metadata": {},
   "source": [
    "Python has a built csv module that allows for reading and writing to CSV."
   ]
  },
  {
   "cell_type": "code",
   "execution_count": 12,
   "metadata": {
    "collapsed": true
   },
   "outputs": [],
   "source": [
    "import csv"
   ]
  },
  {
   "cell_type": "code",
   "execution_count": 16,
   "metadata": {},
   "outputs": [],
   "source": [
    "with open('Birthdays.csv', newline='') as csvfile:\n",
    "    reader = csv.reader(csvfile)\n",
    "    row_data = [row for row in reader]\n",
    "        "
   ]
  },
  {
   "cell_type": "code",
   "execution_count": 17,
   "metadata": {},
   "outputs": [
    {
     "data": {
      "text/plain": [
       "[['', 'state', 'year', 'month', 'day', 'date', 'wday', 'births'],\n",
       " ['1', 'AK', '1969', '1', '1', '1969-01-01', 'Wed', '14'],\n",
       " ['2', 'AL', '1969', '1', '1', '1969-01-01', 'Wed', '174'],\n",
       " ['3', 'AR', '1969', '1', '1', '1969-01-01', 'Wed', '78'],\n",
       " ['4', 'AZ', '1969', '1', '1', '1969-01-01', 'Wed', '84'],\n",
       " ['5', 'CA', '1969', '1', '1', '1969-01-01', 'Wed', '824'],\n",
       " ['6', 'CO', '1969', '1', '1', '1969-01-01', 'Wed', '100'],\n",
       " ['7', 'CT', '1969', '1', '1', '1969-01-01', 'Wed', '90'],\n",
       " ['8', 'DC', '1969', '1', '1', '1969-01-01', 'Wed', '88'],\n",
       " ['9', 'DE', '1969', '1', '1', '1969-01-01', 'Wed', '32']]"
      ]
     },
     "execution_count": 17,
     "metadata": {},
     "output_type": "execute_result"
    }
   ],
   "source": [
    "row_data[:10]"
   ]
  },
  {
   "cell_type": "code",
   "execution_count": null,
   "metadata": {
    "collapsed": true
   },
   "outputs": [],
   "source": []
  }
 ],
 "metadata": {
  "kernelspec": {
   "display_name": "Python 3",
   "language": "python",
   "name": "python3"
  },
  "language_info": {
   "codemirror_mode": {
    "name": "ipython",
    "version": 3
   },
   "file_extension": ".py",
   "mimetype": "text/x-python",
   "name": "python",
   "nbconvert_exporter": "python",
   "pygments_lexer": "ipython3",
   "version": "3.6.3"
  }
 },
 "nbformat": 4,
 "nbformat_minor": 2
}
